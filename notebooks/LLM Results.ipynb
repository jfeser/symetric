{
 "cells": [
  {
   "cell_type": "code",
   "execution_count": 31,
   "id": "554ea3cb",
   "metadata": {},
   "outputs": [],
   "source": [
    "from docopt import docopt\n",
    "from glob import glob\n",
    "import os\n",
    "import subprocess\n",
    "import pandas as pd\n",
    "from tqdm import tqdm\n",
    "import json"
   ]
  },
  {
   "cell_type": "code",
   "execution_count": 23,
   "id": "98558a3d",
   "metadata": {},
   "outputs": [
    {
     "name": "stdout",
     "output_type": "stream",
     "text": [
      "/home/feser/work/ocaml-workspace/symetric\n"
     ]
    }
   ],
   "source": [
    "cd ~/work/ocaml-workspace/symetric"
   ]
  },
  {
   "cell_type": "code",
   "execution_count": 79,
   "id": "f1338851",
   "metadata": {},
   "outputs": [],
   "source": [
    "csg_run = 'runs/llm-csg-numeric'"
   ]
  },
  {
   "cell_type": "code",
   "execution_count": 80,
   "id": "24049c99",
   "metadata": {},
   "outputs": [
    {
     "name": "stderr",
     "output_type": "stream",
     "text": [
      "100%|█████████████████████████████████████████████████████████████████████████████████| 400/400 [00:05<00:00, 76.75it/s]\n"
     ]
    }
   ],
   "source": [
    "rows = []\n",
    "for out in tqdm(glob(csg_run + \"/*.out\")):\n",
    "    name_parts = os.path.basename(out).split(\".\")[0].split(\"-\")\n",
    "    bench_name = name_parts[1]\n",
    "    repeat = name_parts[2]\n",
    "    bench_file = glob(f\"bench/cad_ext/**/{bench_name}\", recursive=True)[0]\n",
    "    proc = subprocess.run([\"_build/default/bin/equiv_cad.exe\", bench_file, out])\n",
    "    rows.append({\"bench\": bench_name, \"repeat\": repeat, \"result\": proc.returncode})\n",
    "csg_df = pd.DataFrame(rows)"
   ]
  },
  {
   "cell_type": "code",
   "execution_count": 81,
   "id": "57ec4549",
   "metadata": {},
   "outputs": [],
   "source": [
    "csg_df_grouped = csg_df.groupby('bench').agg('min')"
   ]
  },
  {
   "cell_type": "code",
   "execution_count": 82,
   "id": "050585ba",
   "metadata": {},
   "outputs": [
    {
     "name": "stdout",
     "output_type": "stream",
     "text": [
      "Correct:  0\n",
      "Incorrect:  40\n",
      "Invalid sexp:  0\n",
      "Invalid CSG program:  0\n"
     ]
    }
   ],
   "source": [
    "def print_csg_results(df):\n",
    "    print('Correct: ', len(df[df['result'] == 0]))\n",
    "    print('Incorrect: ', len(df[df['result'] == 1]))\n",
    "    print('Invalid sexp: ', len(df[df['result'] == 2]))\n",
    "    print('Invalid CSG program: ', len(df[df['result'] == 3]))\n",
    "    \n",
    "print_csg_results(csg_df_grouped)"
   ]
  },
  {
   "cell_type": "code",
   "execution_count": 74,
   "id": "400ba042",
   "metadata": {},
   "outputs": [],
   "source": [
    "regex_run = 'runs/llm-regex-nosketch-nonl/'"
   ]
  },
  {
   "cell_type": "code",
   "execution_count": 75,
   "id": "0274ad78",
   "metadata": {},
   "outputs": [
    {
     "name": "stderr",
     "output_type": "stream",
     "text": [
      " 40%|████████████████████████████████▉                                                 | 49/122 [00:05<00:06, 11.53it/s]"
     ]
    },
    {
     "name": "stdout",
     "output_type": "stream",
     "text": [
      "Warning: Could not read  runs/llm-regex-nosketch-nonl/llm-29.out\n"
     ]
    },
    {
     "name": "stderr",
     "output_type": "stream",
     "text": [
      " 47%|██████████████████████████████████████▎                                           | 57/122 [00:05<00:05, 11.22it/s]"
     ]
    },
    {
     "name": "stdout",
     "output_type": "stream",
     "text": [
      "Warning: Could not read  runs/llm-regex-nosketch-nonl/llm-37.out\n"
     ]
    },
    {
     "name": "stderr",
     "output_type": "stream",
     "text": [
      "100%|█████████████████████████████████████████████████████████████████████████████████| 122/122 [00:12<00:00,  9.41it/s]\n"
     ]
    }
   ],
   "source": [
    "rows = []\n",
    "for out in tqdm(glob(regex_run + \"/*.out\")):\n",
    "    name_parts = os.path.basename(out).split(\".\")[0].split(\"-\")\n",
    "    bench_name = name_parts[1]\n",
    "    bench_file = f\"vendor/regel/exp/so/benchmark/{bench_name}\"\n",
    "    \n",
    "    try:\n",
    "        with open(out, 'r') as out_f:\n",
    "            for (repeat, program) in enumerate(json.load(out_f)):\n",
    "                proc = subprocess.run([\"_build/default/bin/check_regex.exe\", program], stdin=open(bench_file))\n",
    "                rows.append({\"bench\": bench_name, \"repeat\": repeat, \"result\": proc.returncode})\n",
    "    except json.JSONDecodeError:\n",
    "        print('Warning: Could not read ', out)\n",
    "regex_df = pd.DataFrame(rows)\n"
   ]
  },
  {
   "cell_type": "code",
   "execution_count": 76,
   "id": "5768dfc6",
   "metadata": {},
   "outputs": [
    {
     "data": {
      "text/html": [
       "<div>\n",
       "<style scoped>\n",
       "    .dataframe tbody tr th:only-of-type {\n",
       "        vertical-align: middle;\n",
       "    }\n",
       "\n",
       "    .dataframe tbody tr th {\n",
       "        vertical-align: top;\n",
       "    }\n",
       "\n",
       "    .dataframe thead th {\n",
       "        text-align: right;\n",
       "    }\n",
       "</style>\n",
       "<table border=\"1\" class=\"dataframe\">\n",
       "  <thead>\n",
       "    <tr style=\"text-align: right;\">\n",
       "      <th></th>\n",
       "      <th>repeat</th>\n",
       "      <th>result</th>\n",
       "    </tr>\n",
       "    <tr>\n",
       "      <th>bench</th>\n",
       "      <th></th>\n",
       "      <th></th>\n",
       "    </tr>\n",
       "  </thead>\n",
       "  <tbody>\n",
       "    <tr>\n",
       "      <th>1</th>\n",
       "      <td>0</td>\n",
       "      <td>0</td>\n",
       "    </tr>\n",
       "    <tr>\n",
       "      <th>10</th>\n",
       "      <td>0</td>\n",
       "      <td>1</td>\n",
       "    </tr>\n",
       "    <tr>\n",
       "      <th>100</th>\n",
       "      <td>0</td>\n",
       "      <td>1</td>\n",
       "    </tr>\n",
       "    <tr>\n",
       "      <th>101</th>\n",
       "      <td>0</td>\n",
       "      <td>1</td>\n",
       "    </tr>\n",
       "    <tr>\n",
       "      <th>102</th>\n",
       "      <td>0</td>\n",
       "      <td>1</td>\n",
       "    </tr>\n",
       "    <tr>\n",
       "      <th>...</th>\n",
       "      <td>...</td>\n",
       "      <td>...</td>\n",
       "    </tr>\n",
       "    <tr>\n",
       "      <th>95</th>\n",
       "      <td>0</td>\n",
       "      <td>1</td>\n",
       "    </tr>\n",
       "    <tr>\n",
       "      <th>96</th>\n",
       "      <td>0</td>\n",
       "      <td>0</td>\n",
       "    </tr>\n",
       "    <tr>\n",
       "      <th>97</th>\n",
       "      <td>0</td>\n",
       "      <td>2</td>\n",
       "    </tr>\n",
       "    <tr>\n",
       "      <th>98</th>\n",
       "      <td>0</td>\n",
       "      <td>0</td>\n",
       "    </tr>\n",
       "    <tr>\n",
       "      <th>99</th>\n",
       "      <td>0</td>\n",
       "      <td>1</td>\n",
       "    </tr>\n",
       "  </tbody>\n",
       "</table>\n",
       "<p>120 rows × 2 columns</p>\n",
       "</div>"
      ],
      "text/plain": [
       "       repeat  result\n",
       "bench                \n",
       "1           0       0\n",
       "10          0       1\n",
       "100         0       1\n",
       "101         0       1\n",
       "102         0       1\n",
       "...       ...     ...\n",
       "95          0       1\n",
       "96          0       0\n",
       "97          0       2\n",
       "98          0       0\n",
       "99          0       1\n",
       "\n",
       "[120 rows x 2 columns]"
      ]
     },
     "execution_count": 76,
     "metadata": {},
     "output_type": "execute_result"
    }
   ],
   "source": [
    "regex_grouped_df = regex_df.groupby('bench').agg('min')\n",
    "regex_grouped_df"
   ]
  },
  {
   "cell_type": "code",
   "execution_count": 77,
   "id": "48ed9cd8",
   "metadata": {
    "scrolled": true
   },
   "outputs": [
    {
     "name": "stdout",
     "output_type": "stream",
     "text": [
      "Correct:  15\n",
      "Incorrect:  58\n",
      "Invalid regex program:  47\n"
     ]
    }
   ],
   "source": [
    "def print_results(df):\n",
    "    print('Correct: ', len(df[df['result'] == 0]))\n",
    "    print('Incorrect: ', len(df[df['result'] == 1]))\n",
    "    print('Invalid regex program: ', len(df[df['result'] == 2]))\n",
    "    \n",
    "print_results(regex_grouped_df)"
   ]
  },
  {
   "cell_type": "code",
   "execution_count": null,
   "id": "989c8cf7",
   "metadata": {},
   "outputs": [],
   "source": []
  }
 ],
 "metadata": {
  "kernelspec": {
   "display_name": "Python 3 (ipykernel)",
   "language": "python",
   "name": "python3"
  },
  "language_info": {
   "codemirror_mode": {
    "name": "ipython",
    "version": 3
   },
   "file_extension": ".py",
   "mimetype": "text/x-python",
   "name": "python",
   "nbconvert_exporter": "python",
   "pygments_lexer": "ipython3",
   "version": "3.11.2"
  }
 },
 "nbformat": 4,
 "nbformat_minor": 5
}

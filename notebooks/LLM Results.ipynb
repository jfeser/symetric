{
 "cells": [
  {
   "cell_type": "code",
   "execution_count": 31,
   "id": "554ea3cb",
   "metadata": {},
   "outputs": [],
   "source": [
    "from docopt import docopt\n",
    "from glob import glob\n",
    "import os\n",
    "import subprocess\n",
    "import pandas as pd\n",
    "from tqdm import tqdm\n",
    "import json"
   ]
  },
  {
   "cell_type": "code",
   "execution_count": 23,
   "id": "98558a3d",
   "metadata": {},
   "outputs": [
    {
     "name": "stdout",
     "output_type": "stream",
     "text": [
      "/home/feser/work/ocaml-workspace/symetric\n"
     ]
    }
   ],
   "source": [
    "cd ~/work/ocaml-workspace/symetric"
   ]
  },
  {
   "cell_type": "code",
   "execution_count": 79,
   "id": "f1338851",
   "metadata": {},
   "outputs": [],
   "source": [
    "csg_run = 'runs/llm-csg-numeric'"
   ]
  },
  {
   "cell_type": "code",
   "execution_count": 80,
   "id": "24049c99",
   "metadata": {},
   "outputs": [
    {
     "name": "stderr",
     "output_type": "stream",
     "text": [
      "100%|█████████████████████████████████████████████████████████████████████████████████| 400/400 [00:05<00:00, 76.75it/s]\n"
     ]
    }
   ],
   "source": [
    "rows = []\n",
    "for out in tqdm(glob(csg_run + \"/*.out\")):\n",
    "    name_parts = os.path.basename(out).split(\".\")[0].split(\"-\")\n",
    "    bench_name = name_parts[1]\n",
    "    repeat = name_parts[2]\n",
    "    bench_file = glob(f\"bench/cad_ext/**/{bench_name}\", recursive=True)[0]\n",
    "    proc = subprocess.run([\"_build/default/bin/equiv_cad.exe\", bench_file, out])\n",
    "    rows.append({\"bench\": bench_name, \"repeat\": repeat, \"result\": proc.returncode})\n",
    "csg_df = pd.DataFrame(rows)"
   ]
  },
  {
   "cell_type": "code",
   "execution_count": 87,
   "id": "57ec4549",
   "metadata": {},
   "outputs": [],
   "source": [
    "csg_df_grouped = csg_df.groupby('bench').agg('min')"
   ]
  },
  {
   "cell_type": "code",
   "execution_count": 88,
   "id": "050585ba",
   "metadata": {},
   "outputs": [
    {
     "name": "stdout",
     "output_type": "stream",
     "text": [
      "Correct:  0\n",
      "Incorrect:  40\n",
      "Invalid sexp:  0\n",
      "Invalid CSG program:  0\n"
     ]
    }
   ],
   "source": [
    "def print_csg_results(df):\n",
    "    print('Correct: ', len(df[df['result'] == 0]))\n",
    "    print('Incorrect: ', len(df[df['result'] == 1]))\n",
    "    print('Invalid sexp: ', len(df[df['result'] == 2]))\n",
    "    print('Invalid CSG program: ', len(df[df['result'] == 3]))\n",
    "    \n",
    "print_csg_results(csg_df_grouped)"
   ]
  },
  {
   "cell_type": "code",
   "execution_count": 85,
   "id": "400ba042",
   "metadata": {},
   "outputs": [],
   "source": [
    "regex_run = 'runs/llm-regex-sketch/'"
   ]
  },
  {
   "cell_type": "code",
   "execution_count": 106,
   "id": "0274ad78",
   "metadata": {},
   "outputs": [
    {
     "name": "stderr",
     "output_type": "stream",
     "text": [
      " 42%|█████████████████████████████████▍                                              | 907/2174 [02:23<02:35,  8.13it/s]"
     ]
    },
    {
     "name": "stdout",
     "output_type": "stream",
     "text": [
      "Warning: Could not read  runs/llm-regex-sketch/llm-32-1.out\n"
     ]
    },
    {
     "name": "stderr",
     "output_type": "stream",
     "text": [
      " 44%|███████████████████████████████████▎                                            | 961/2174 [02:27<00:23, 52.64it/s]"
     ]
    },
    {
     "name": "stdout",
     "output_type": "stream",
     "text": [
      "Warning: Could not read  runs/llm-regex-sketch/llm-37-0.out\n",
      "Warning: Could not read  runs/llm-regex-sketch/llm-37-1.out\n",
      "Warning: Could not read  runs/llm-regex-sketch/llm-37-2.out\n",
      "Warning: Could not read  runs/llm-regex-sketch/llm-37-3.out\n",
      "Warning: Could not read  runs/llm-regex-sketch/llm-37-4.out\n",
      "Warning: Could not read  runs/llm-regex-sketch/llm-37-5.out\n",
      "Warning: Could not read  runs/llm-regex-sketch/llm-37-6.out\n",
      "Warning: Could not read  runs/llm-regex-sketch/llm-37-7.out\n",
      "Warning: Could not read  runs/llm-regex-sketch/llm-37-8.out\n",
      "Warning: Could not read  runs/llm-regex-sketch/llm-37-9.out\n",
      "Warning: Could not read  runs/llm-regex-sketch/llm-37-10.out\n",
      "Warning: Could not read  runs/llm-regex-sketch/llm-37-11.out\n",
      "Warning: Could not read  runs/llm-regex-sketch/llm-37-12.out\n",
      "Warning: Could not read  runs/llm-regex-sketch/llm-37-13.out\n",
      "Warning: Could not read  runs/llm-regex-sketch/llm-37-14.out\n",
      "Warning: Could not read  runs/llm-regex-sketch/llm-37-15.out\n",
      "Warning: Could not read  runs/llm-regex-sketch/llm-37-16.out\n",
      "Warning: Could not read  runs/llm-regex-sketch/llm-37-17.out\n",
      "Warning: Could not read  runs/llm-regex-sketch/llm-37-18.out\n",
      "Warning: Could not read  runs/llm-regex-sketch/llm-37-19.out\n",
      "Warning: Could not read  runs/llm-regex-sketch/llm-37-20.out\n",
      "Warning: Could not read  runs/llm-regex-sketch/llm-37-21.out\n",
      "Warning: Could not read  runs/llm-regex-sketch/llm-37-22.out\n",
      "Warning: Could not read  runs/llm-regex-sketch/llm-37-23.out\n",
      "Warning: Could not read  runs/llm-regex-sketch/llm-37-24.out\n"
     ]
    },
    {
     "name": "stderr",
     "output_type": "stream",
     "text": [
      " 60%|███████████████████████████████████████████████▍                               | 1304/2174 [03:21<02:14,  6.46it/s]Error parsing command line:\n",
      "\n",
      "  unknown flag -?{<num>}concat(?,or(?,<,>),?<num>)\n",
      "\n",
      "For usage information, run\n",
      "\n",
      "  check_regex.exe -help\n",
      "\n",
      " 61%|████████████████████████████████████████████████▏                              | 1327/2174 [03:25<01:50,  7.66it/s]"
     ]
    },
    {
     "name": "stdout",
     "output_type": "stream",
     "text": [
      "Warning: Could not read  runs/llm-regex-sketch/llm-58-7.out\n"
     ]
    },
    {
     "name": "stderr",
     "output_type": "stream",
     "text": [
      "100%|███████████████████████████████████████████████████████████████████████████████| 2174/2174 [05:35<00:00,  6.48it/s]\n"
     ]
    }
   ],
   "source": [
    "rows = []\n",
    "for out in tqdm(glob(regex_run + \"/*.out\")):\n",
    "    name_parts = os.path.basename(out).split(\".\")[0].split(\"-\")\n",
    "    bench_name = name_parts[1]\n",
    "    sketch_name = name_parts[2]\n",
    "    bench_file = f\"vendor/regel/exp/so/benchmark/{bench_name}\"\n",
    "    sketch_file = f\"vendor/regel/exp/so/sketch/{bench_name}\"\n",
    "    \n",
    "    with open(sketch_file, 'r') as f:\n",
    "        sketches = f.readlines()\n",
    "    sketch = sketches[int(sketch_name)].split(' ', 1)[1]\n",
    "        \n",
    "    try:\n",
    "        with open(out, 'r') as out_f:\n",
    "            for (repeat, program) in enumerate(json.load(out_f)):\n",
    "                proc = subprocess.run([\"_build/default/bin/check_regex.exe\", \"-s\", sketch, program], stdin=open(bench_file))\n",
    "                rows.append({\"bench\": bench_name + '-' + sketch_name, \"repeat\": repeat, \"result\": proc.returncode})\n",
    "    except json.JSONDecodeError:\n",
    "        print('Warning: Could not read ', out)\n",
    "regex_df = pd.DataFrame(rows)\n"
   ]
  },
  {
   "cell_type": "code",
   "execution_count": 107,
   "id": "5768dfc6",
   "metadata": {},
   "outputs": [
    {
     "data": {
      "text/html": [
       "<div>\n",
       "<style scoped>\n",
       "    .dataframe tbody tr th:only-of-type {\n",
       "        vertical-align: middle;\n",
       "    }\n",
       "\n",
       "    .dataframe tbody tr th {\n",
       "        vertical-align: top;\n",
       "    }\n",
       "\n",
       "    .dataframe thead th {\n",
       "        text-align: right;\n",
       "    }\n",
       "</style>\n",
       "<table border=\"1\" class=\"dataframe\">\n",
       "  <thead>\n",
       "    <tr style=\"text-align: right;\">\n",
       "      <th></th>\n",
       "      <th>repeat</th>\n",
       "      <th>result</th>\n",
       "    </tr>\n",
       "    <tr>\n",
       "      <th>bench</th>\n",
       "      <th></th>\n",
       "      <th></th>\n",
       "    </tr>\n",
       "  </thead>\n",
       "  <tbody>\n",
       "    <tr>\n",
       "      <th>1-0</th>\n",
       "      <td>0</td>\n",
       "      <td>2</td>\n",
       "    </tr>\n",
       "    <tr>\n",
       "      <th>1-1</th>\n",
       "      <td>0</td>\n",
       "      <td>2</td>\n",
       "    </tr>\n",
       "    <tr>\n",
       "      <th>1-10</th>\n",
       "      <td>0</td>\n",
       "      <td>2</td>\n",
       "    </tr>\n",
       "    <tr>\n",
       "      <th>1-2</th>\n",
       "      <td>0</td>\n",
       "      <td>2</td>\n",
       "    </tr>\n",
       "    <tr>\n",
       "      <th>1-3</th>\n",
       "      <td>0</td>\n",
       "      <td>0</td>\n",
       "    </tr>\n",
       "    <tr>\n",
       "      <th>...</th>\n",
       "      <td>...</td>\n",
       "      <td>...</td>\n",
       "    </tr>\n",
       "    <tr>\n",
       "      <th>99-5</th>\n",
       "      <td>0</td>\n",
       "      <td>4</td>\n",
       "    </tr>\n",
       "    <tr>\n",
       "      <th>99-6</th>\n",
       "      <td>0</td>\n",
       "      <td>4</td>\n",
       "    </tr>\n",
       "    <tr>\n",
       "      <th>99-7</th>\n",
       "      <td>0</td>\n",
       "      <td>4</td>\n",
       "    </tr>\n",
       "    <tr>\n",
       "      <th>99-8</th>\n",
       "      <td>0</td>\n",
       "      <td>4</td>\n",
       "    </tr>\n",
       "    <tr>\n",
       "      <th>99-9</th>\n",
       "      <td>0</td>\n",
       "      <td>4</td>\n",
       "    </tr>\n",
       "  </tbody>\n",
       "</table>\n",
       "<p>2147 rows × 2 columns</p>\n",
       "</div>"
      ],
      "text/plain": [
       "       repeat  result\n",
       "bench                \n",
       "1-0         0       2\n",
       "1-1         0       2\n",
       "1-10        0       2\n",
       "1-2         0       2\n",
       "1-3         0       0\n",
       "...       ...     ...\n",
       "99-5        0       4\n",
       "99-6        0       4\n",
       "99-7        0       4\n",
       "99-8        0       4\n",
       "99-9        0       4\n",
       "\n",
       "[2147 rows x 2 columns]"
      ]
     },
     "execution_count": 107,
     "metadata": {},
     "output_type": "execute_result"
    }
   ],
   "source": [
    "regex_grouped_df = regex_df.groupby('bench').agg('min')\n",
    "regex_grouped_df"
   ]
  },
  {
   "cell_type": "code",
   "execution_count": 108,
   "id": "48ed9cd8",
   "metadata": {
    "scrolled": true
   },
   "outputs": [
    {
     "name": "stdout",
     "output_type": "stream",
     "text": [
      "Correct:  111\n",
      "Correct examples:  34\n",
      "Correct spec:  1135\n",
      "Both incorrect:  255\n",
      "Invalid regex program:  612\n"
     ]
    }
   ],
   "source": [
    "def print_results(df):\n",
    "    print('Correct: ', len(df[df['result'] == 0]))\n",
    "    print('Correct examples: ', len(df[df['result'] == 1]))\n",
    "    print('Correct spec: ', len(df[df['result'] == 2]))\n",
    "    print('Both incorrect: ', len(df[df['result'] == 3]))\n",
    "    print('Invalid regex program: ', len(df[df['result'] == 4]))\n",
    "    \n",
    "print_results(regex_grouped_df)"
   ]
  },
  {
   "cell_type": "code",
   "execution_count": 109,
   "id": "989c8cf7",
   "metadata": {},
   "outputs": [],
   "source": [
    "tower_run = 'runs/llm-tower'"
   ]
  },
  {
   "cell_type": "code",
   "execution_count": 116,
   "id": "617b2618",
   "metadata": {},
   "outputs": [
    {
     "name": "stderr",
     "output_type": "stream",
     "text": [
      "100%|███████████████████████████████████████████████████████████████████████████████████| 34/34 [00:05<00:00,  6.23it/s]\n"
     ]
    }
   ],
   "source": [
    "rows = []\n",
    "for out in tqdm(glob(tower_run + \"/*.out\")):\n",
    "    bench_name = os.path.basename(out).split(\".\")[0].split(\"-\")[1]\n",
    "    bench_file = f\"bench/tower/{bench_name}.sexp\"\n",
    "            \n",
    "    try:\n",
    "        with open(out, 'r') as out_f:\n",
    "            for (repeat, program) in enumerate(json.load(out_f)):\n",
    "                with open('/tmp/prog', 'w') as f:\n",
    "                    f.write(program)\n",
    "                    \n",
    "                proc = subprocess.run([\"_build/default/bin/equiv_tower.exe\", bench_file, '/tmp/prog'])\n",
    "                rows.append({\"bench\": bench_name, \"repeat\": repeat, \"result\": proc.returncode})\n",
    "    except json.JSONDecodeError:\n",
    "        print('Warning: Could not read ', out)\n",
    "tower_df = pd.DataFrame(rows)"
   ]
  },
  {
   "cell_type": "code",
   "execution_count": 115,
   "id": "d72dc39e",
   "metadata": {},
   "outputs": [
    {
     "data": {
      "text/html": [
       "<div>\n",
       "<style scoped>\n",
       "    .dataframe tbody tr th:only-of-type {\n",
       "        vertical-align: middle;\n",
       "    }\n",
       "\n",
       "    .dataframe tbody tr th {\n",
       "        vertical-align: top;\n",
       "    }\n",
       "\n",
       "    .dataframe thead th {\n",
       "        text-align: right;\n",
       "    }\n",
       "</style>\n",
       "<table border=\"1\" class=\"dataframe\">\n",
       "  <thead>\n",
       "    <tr style=\"text-align: right;\">\n",
       "      <th></th>\n",
       "      <th>repeat</th>\n",
       "      <th>result</th>\n",
       "    </tr>\n",
       "    <tr>\n",
       "      <th>bench</th>\n",
       "      <th></th>\n",
       "      <th></th>\n",
       "    </tr>\n",
       "  </thead>\n",
       "  <tbody>\n",
       "    <tr>\n",
       "      <th>test0-24</th>\n",
       "      <td>0</td>\n",
       "      <td>1</td>\n",
       "    </tr>\n",
       "    <tr>\n",
       "      <th>test1-24</th>\n",
       "      <td>0</td>\n",
       "      <td>1</td>\n",
       "    </tr>\n",
       "    <tr>\n",
       "      <th>test10-24</th>\n",
       "      <td>0</td>\n",
       "      <td>1</td>\n",
       "    </tr>\n",
       "    <tr>\n",
       "      <th>test11-24</th>\n",
       "      <td>0</td>\n",
       "      <td>1</td>\n",
       "    </tr>\n",
       "    <tr>\n",
       "      <th>test12-24</th>\n",
       "      <td>0</td>\n",
       "      <td>1</td>\n",
       "    </tr>\n",
       "    <tr>\n",
       "      <th>test13-24</th>\n",
       "      <td>0</td>\n",
       "      <td>1</td>\n",
       "    </tr>\n",
       "    <tr>\n",
       "      <th>test14-24</th>\n",
       "      <td>0</td>\n",
       "      <td>1</td>\n",
       "    </tr>\n",
       "    <tr>\n",
       "      <th>test15-24</th>\n",
       "      <td>0</td>\n",
       "      <td>1</td>\n",
       "    </tr>\n",
       "    <tr>\n",
       "      <th>test16-24</th>\n",
       "      <td>0</td>\n",
       "      <td>1</td>\n",
       "    </tr>\n",
       "    <tr>\n",
       "      <th>test17-24</th>\n",
       "      <td>0</td>\n",
       "      <td>1</td>\n",
       "    </tr>\n",
       "    <tr>\n",
       "      <th>test18-24</th>\n",
       "      <td>0</td>\n",
       "      <td>1</td>\n",
       "    </tr>\n",
       "    <tr>\n",
       "      <th>test19-24</th>\n",
       "      <td>0</td>\n",
       "      <td>1</td>\n",
       "    </tr>\n",
       "    <tr>\n",
       "      <th>test2-24</th>\n",
       "      <td>0</td>\n",
       "      <td>1</td>\n",
       "    </tr>\n",
       "    <tr>\n",
       "      <th>test20-24</th>\n",
       "      <td>0</td>\n",
       "      <td>1</td>\n",
       "    </tr>\n",
       "    <tr>\n",
       "      <th>test21-24</th>\n",
       "      <td>0</td>\n",
       "      <td>1</td>\n",
       "    </tr>\n",
       "    <tr>\n",
       "      <th>test22-24</th>\n",
       "      <td>0</td>\n",
       "      <td>1</td>\n",
       "    </tr>\n",
       "    <tr>\n",
       "      <th>test23-24</th>\n",
       "      <td>0</td>\n",
       "      <td>1</td>\n",
       "    </tr>\n",
       "    <tr>\n",
       "      <th>test24-24</th>\n",
       "      <td>0</td>\n",
       "      <td>1</td>\n",
       "    </tr>\n",
       "    <tr>\n",
       "      <th>test25-24</th>\n",
       "      <td>0</td>\n",
       "      <td>1</td>\n",
       "    </tr>\n",
       "    <tr>\n",
       "      <th>test26-24</th>\n",
       "      <td>0</td>\n",
       "      <td>1</td>\n",
       "    </tr>\n",
       "    <tr>\n",
       "      <th>test27-24</th>\n",
       "      <td>0</td>\n",
       "      <td>1</td>\n",
       "    </tr>\n",
       "    <tr>\n",
       "      <th>test28-24</th>\n",
       "      <td>0</td>\n",
       "      <td>1</td>\n",
       "    </tr>\n",
       "    <tr>\n",
       "      <th>test29-24</th>\n",
       "      <td>0</td>\n",
       "      <td>1</td>\n",
       "    </tr>\n",
       "    <tr>\n",
       "      <th>test3-24</th>\n",
       "      <td>0</td>\n",
       "      <td>1</td>\n",
       "    </tr>\n",
       "    <tr>\n",
       "      <th>test30-24</th>\n",
       "      <td>0</td>\n",
       "      <td>1</td>\n",
       "    </tr>\n",
       "    <tr>\n",
       "      <th>test31-24</th>\n",
       "      <td>0</td>\n",
       "      <td>1</td>\n",
       "    </tr>\n",
       "    <tr>\n",
       "      <th>test32-24</th>\n",
       "      <td>0</td>\n",
       "      <td>1</td>\n",
       "    </tr>\n",
       "    <tr>\n",
       "      <th>test33-24</th>\n",
       "      <td>0</td>\n",
       "      <td>1</td>\n",
       "    </tr>\n",
       "    <tr>\n",
       "      <th>test4-24</th>\n",
       "      <td>0</td>\n",
       "      <td>1</td>\n",
       "    </tr>\n",
       "    <tr>\n",
       "      <th>test5-24</th>\n",
       "      <td>0</td>\n",
       "      <td>1</td>\n",
       "    </tr>\n",
       "    <tr>\n",
       "      <th>test6-24</th>\n",
       "      <td>0</td>\n",
       "      <td>1</td>\n",
       "    </tr>\n",
       "    <tr>\n",
       "      <th>test7-24</th>\n",
       "      <td>0</td>\n",
       "      <td>1</td>\n",
       "    </tr>\n",
       "    <tr>\n",
       "      <th>test8-24</th>\n",
       "      <td>0</td>\n",
       "      <td>1</td>\n",
       "    </tr>\n",
       "    <tr>\n",
       "      <th>test9-24</th>\n",
       "      <td>0</td>\n",
       "      <td>1</td>\n",
       "    </tr>\n",
       "  </tbody>\n",
       "</table>\n",
       "</div>"
      ],
      "text/plain": [
       "           repeat  result\n",
       "bench                    \n",
       "test0-24        0       1\n",
       "test1-24        0       1\n",
       "test10-24       0       1\n",
       "test11-24       0       1\n",
       "test12-24       0       1\n",
       "test13-24       0       1\n",
       "test14-24       0       1\n",
       "test15-24       0       1\n",
       "test16-24       0       1\n",
       "test17-24       0       1\n",
       "test18-24       0       1\n",
       "test19-24       0       1\n",
       "test2-24        0       1\n",
       "test20-24       0       1\n",
       "test21-24       0       1\n",
       "test22-24       0       1\n",
       "test23-24       0       1\n",
       "test24-24       0       1\n",
       "test25-24       0       1\n",
       "test26-24       0       1\n",
       "test27-24       0       1\n",
       "test28-24       0       1\n",
       "test29-24       0       1\n",
       "test3-24        0       1\n",
       "test30-24       0       1\n",
       "test31-24       0       1\n",
       "test32-24       0       1\n",
       "test33-24       0       1\n",
       "test4-24        0       1\n",
       "test5-24        0       1\n",
       "test6-24        0       1\n",
       "test7-24        0       1\n",
       "test8-24        0       1\n",
       "test9-24        0       1"
      ]
     },
     "execution_count": 115,
     "metadata": {},
     "output_type": "execute_result"
    }
   ],
   "source": [
    "tower_grouped_df = tower_df.groupby('bench').agg('min')\n",
    "tower_grouped_df"
   ]
  },
  {
   "cell_type": "code",
   "execution_count": 117,
   "id": "ec2fc4fd",
   "metadata": {},
   "outputs": [
    {
     "name": "stdout",
     "output_type": "stream",
     "text": [
      "Correct:  0\n",
      "Incorrect:  34\n",
      "Invalid:  0\n"
     ]
    }
   ],
   "source": [
    "def print_results(df):\n",
    "    print('Correct: ', len(df[df['result'] == 0]))\n",
    "    print('Incorrect: ', len(df[df['result'] == 1]))\n",
    "    print('Invalid: ', len(df[df['result'] == 2]))\n",
    "    \n",
    "print_results(tower_grouped_df)"
   ]
  },
  {
   "cell_type": "code",
   "execution_count": null,
   "id": "7b2eea1d",
   "metadata": {},
   "outputs": [],
   "source": []
  }
 ],
 "metadata": {
  "kernelspec": {
   "display_name": "Python 3 (ipykernel)",
   "language": "python",
   "name": "python3"
  },
  "language_info": {
   "codemirror_mode": {
    "name": "ipython",
    "version": 3
   },
   "file_extension": ".py",
   "mimetype": "text/x-python",
   "name": "python",
   "nbconvert_exporter": "python",
   "pygments_lexer": "ipython3",
   "version": "3.11.2"
  }
 },
 "nbformat": 4,
 "nbformat_minor": 5
}

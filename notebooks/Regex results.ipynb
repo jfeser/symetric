{
 "cells": [
  {
   "cell_type": "code",
   "execution_count": 2,
   "id": "6b2a5e90-ba86-4202-a413-96cabfa364ba",
   "metadata": {},
   "outputs": [
    {
     "name": "stdout",
     "output_type": "stream",
     "text": [
      "/mnt/scratch/metric-synth-runs\n"
     ]
    }
   ],
   "source": [
    "cd /mnt/scratch/metric-synth-runs/"
   ]
  },
  {
   "cell_type": "code",
   "execution_count": 3,
   "id": "399b1f55-e435-43c5-a1cf-a12ba395174b",
   "metadata": {},
   "outputs": [],
   "source": [
    "import matplotlib.pyplot as plt\n",
    "import numpy as np\n",
    "import pandas as pd\n",
    "from tqdm import tqdm\n",
    "from shared import load, plot_ablations, method_table, construct_table\n",
    "import os\n",
    "\n",
    "plt.rcParams.update(\n",
    "    {\n",
    "        \"font.family\": \"serif\",\n",
    "        \"text.usetex\": True,\n",
    "        \"pgf.rcfonts\": False,\n",
    "        \"pgf.preamble\": \"\\n\".join(\n",
    "            [r\"\\documentclass[acmsmall,review,timestamp]{acmart}\"]\n",
    "        ),\n",
    "    }\n",
    ")"
   ]
  },
  {
   "cell_type": "code",
   "execution_count": 42,
   "id": "c46ac08c-57b1-46f2-b676-92bc19b2a98a",
   "metadata": {
    "tags": []
   },
   "outputs": [
    {
     "name": "stderr",
     "output_type": "stream",
     "text": [
      "100%|██████████████████████████████████████████████████████████████████████████████████████████████████████| 4212/4212 [00:00<00:00, 8080.12it/s]\n"
     ]
    }
   ],
   "source": [
    "metric = load('2022-11-03-18:14:20/')"
   ]
  },
  {
   "cell_type": "code",
   "execution_count": 5,
   "id": "604b820d-8f2b-4006-a177-c9a8b47cdb98",
   "metadata": {},
   "outputs": [
    {
     "name": "stderr",
     "output_type": "stream",
     "text": [
      "100%|███████████████████████████████████████████████████████████████████████████| 4212/4212 [00:01<00:00, 3271.60it/s]\n"
     ]
    }
   ],
   "source": [
    "enum = load('regex-enum')"
   ]
  },
  {
   "cell_type": "code",
   "execution_count": 6,
   "id": "3cf22ec1-52aa-4e41-8973-d14ae42c5556",
   "metadata": {},
   "outputs": [
    {
     "name": "stderr",
     "output_type": "stream",
     "text": [
      "100%|███████████████████████████████████████████████████████████████████████████| 4212/4212 [00:01<00:00, 2535.94it/s]\n"
     ]
    }
   ],
   "source": [
    "abst = load('regex-abs')"
   ]
  },
  {
   "cell_type": "code",
   "execution_count": 175,
   "id": "e2628c3a-fdb6-48d9-834b-19bf4f625526",
   "metadata": {},
   "outputs": [
    {
     "data": {
      "text/plain": [
       "count    103.000000\n",
       "mean       6.994654\n",
       "std       18.375893\n",
       "min        0.031680\n",
       "25%        0.622608\n",
       "50%        2.398035\n",
       "75%        5.923555\n",
       "max      164.822949\n",
       "Name: runtime, dtype: float64"
      ]
     },
     "execution_count": 175,
     "metadata": {},
     "output_type": "execute_result"
    }
   ],
   "source": [
    "metric.groupby('bench').mean()['runtime'].sort_values(ascending=False).describe()"
   ]
  },
  {
   "cell_type": "code",
   "execution_count": 192,
   "id": "8f4b8fe9-eb2f-45fd-8dae-2b340a646ebf",
   "metadata": {},
   "outputs": [
    {
     "data": {
      "text/html": [
       "<div>\n",
       "<style scoped>\n",
       "    .dataframe tbody tr th:only-of-type {\n",
       "        vertical-align: middle;\n",
       "    }\n",
       "\n",
       "    .dataframe tbody tr th {\n",
       "        vertical-align: top;\n",
       "    }\n",
       "\n",
       "    .dataframe thead tr th {\n",
       "        text-align: left;\n",
       "    }\n",
       "\n",
       "    .dataframe thead tr:last-of-type th {\n",
       "        text-align: right;\n",
       "    }\n",
       "</style>\n",
       "<table border=\"1\" class=\"dataframe\">\n",
       "  <thead>\n",
       "    <tr>\n",
       "      <th></th>\n",
       "      <th></th>\n",
       "      <th></th>\n",
       "      <th></th>\n",
       "      <th></th>\n",
       "      <th></th>\n",
       "      <th colspan=\"2\" halign=\"left\">success</th>\n",
       "      <th colspan=\"3\" halign=\"left\">runtime</th>\n",
       "      <th colspan=\"3\" halign=\"left\">program_size</th>\n",
       "    </tr>\n",
       "    <tr>\n",
       "      <th></th>\n",
       "      <th></th>\n",
       "      <th></th>\n",
       "      <th></th>\n",
       "      <th></th>\n",
       "      <th></th>\n",
       "      <th>mean</th>\n",
       "      <th>count</th>\n",
       "      <th>min</th>\n",
       "      <th>median</th>\n",
       "      <th>max</th>\n",
       "      <th>min</th>\n",
       "      <th>median</th>\n",
       "      <th>max</th>\n",
       "    </tr>\n",
       "    <tr>\n",
       "      <th>n_groups</th>\n",
       "      <th>threshold</th>\n",
       "      <th>max_cost</th>\n",
       "      <th>extract</th>\n",
       "      <th>repair</th>\n",
       "      <th>rank</th>\n",
       "      <th></th>\n",
       "      <th></th>\n",
       "      <th></th>\n",
       "      <th></th>\n",
       "      <th></th>\n",
       "      <th></th>\n",
       "      <th></th>\n",
       "      <th></th>\n",
       "    </tr>\n",
       "  </thead>\n",
       "  <tbody>\n",
       "    <tr>\n",
       "      <th rowspan=\"5\" valign=\"top\">200</th>\n",
       "      <th>0.0</th>\n",
       "      <th>20</th>\n",
       "      <th>Greedy</th>\n",
       "      <th>Guided</th>\n",
       "      <th>True</th>\n",
       "      <td>0.722933</td>\n",
       "      <td>2032</td>\n",
       "      <td>0.000904</td>\n",
       "      <td>1.499489</td>\n",
       "      <td>241.308482</td>\n",
       "      <td>2.0</td>\n",
       "      <td>22.0</td>\n",
       "      <td>97.0</td>\n",
       "    </tr>\n",
       "    <tr>\n",
       "      <th rowspan=\"4\" valign=\"top\">0.3</th>\n",
       "      <th rowspan=\"4\" valign=\"top\">20</th>\n",
       "      <th rowspan=\"3\" valign=\"top\">Greedy</th>\n",
       "      <th rowspan=\"2\" valign=\"top\">Guided</th>\n",
       "      <th>False</th>\n",
       "      <td>0.547244</td>\n",
       "      <td>2032</td>\n",
       "      <td>0.109985</td>\n",
       "      <td>0.708278</td>\n",
       "      <td>242.164059</td>\n",
       "      <td>2.0</td>\n",
       "      <td>27.0</td>\n",
       "      <td>76.0</td>\n",
       "    </tr>\n",
       "    <tr>\n",
       "      <th>True</th>\n",
       "      <td>0.755413</td>\n",
       "      <td>2032</td>\n",
       "      <td>0.000908</td>\n",
       "      <td>0.742452</td>\n",
       "      <td>273.006955</td>\n",
       "      <td>2.0</td>\n",
       "      <td>19.0</td>\n",
       "      <td>109.0</td>\n",
       "    </tr>\n",
       "    <tr>\n",
       "      <th>Random</th>\n",
       "      <th>True</th>\n",
       "      <td>0.714075</td>\n",
       "      <td>2032</td>\n",
       "      <td>0.000933</td>\n",
       "      <td>0.656361</td>\n",
       "      <td>281.861798</td>\n",
       "      <td>2.0</td>\n",
       "      <td>18.0</td>\n",
       "      <td>109.0</td>\n",
       "    </tr>\n",
       "    <tr>\n",
       "      <th>Random</th>\n",
       "      <th>Guided</th>\n",
       "      <th>True</th>\n",
       "      <td>0.727854</td>\n",
       "      <td>2032</td>\n",
       "      <td>0.000937</td>\n",
       "      <td>0.682540</td>\n",
       "      <td>273.216948</td>\n",
       "      <td>2.0</td>\n",
       "      <td>20.0</td>\n",
       "      <td>109.0</td>\n",
       "    </tr>\n",
       "  </tbody>\n",
       "</table>\n",
       "</div>"
      ],
      "text/plain": [
       "                                                   success         runtime  \\\n",
       "                                                      mean count       min   \n",
       "n_groups threshold max_cost extract repair rank                              \n",
       "200      0.0       20       Greedy  Guided True   0.722933  2032  0.000904   \n",
       "         0.3       20       Greedy  Guided False  0.547244  2032  0.109985   \n",
       "                                           True   0.755413  2032  0.000908   \n",
       "                                    Random True   0.714075  2032  0.000933   \n",
       "                            Random  Guided True   0.727854  2032  0.000937   \n",
       "\n",
       "                                                                        \\\n",
       "                                                    median         max   \n",
       "n_groups threshold max_cost extract repair rank                          \n",
       "200      0.0       20       Greedy  Guided True   1.499489  241.308482   \n",
       "         0.3       20       Greedy  Guided False  0.708278  242.164059   \n",
       "                                           True   0.742452  273.006955   \n",
       "                                    Random True   0.656361  281.861798   \n",
       "                            Random  Guided True   0.682540  273.216948   \n",
       "\n",
       "                                                 program_size                \n",
       "                                                          min median    max  \n",
       "n_groups threshold max_cost extract repair rank                              \n",
       "200      0.0       20       Greedy  Guided True           2.0   22.0   97.0  \n",
       "         0.3       20       Greedy  Guided False          2.0   27.0   76.0  \n",
       "                                           True           2.0   19.0  109.0  \n",
       "                                    Random True           2.0   18.0  109.0  \n",
       "                            Random  Guided True           2.0   20.0  109.0  "
      ]
     },
     "execution_count": 192,
     "metadata": {},
     "output_type": "execute_result"
    }
   ],
   "source": [
    "metric.groupby(['n_groups', 'threshold', 'max_cost', 'extract', 'repair', 'rank']).agg({'success':['mean','count'], \n",
    "                                                       'runtime':['min', 'median', 'max'],\n",
    "                                                       'program_size':['min', 'median', 'max']})"
   ]
  },
  {
   "cell_type": "code",
   "execution_count": 177,
   "id": "77e675fb-3561-444e-90a0-868d6945f3f6",
   "metadata": {
    "tags": []
   },
   "outputs": [
    {
     "data": {
      "text/plain": [
       "<AxesSubplot:xlabel='Number of sketches solved', ylabel='Time (s)'>"
      ]
     },
     "execution_count": 177,
     "metadata": {},
     "output_type": "execute_result"
    },
    {
     "data": {
      "image/png": "[encoded data removed]",
      "text/plain": [
       "<Figure size 432x288 with 1 Axes>"
      ]
     },
     "metadata": {
      "needs_background": "light"
     },
     "output_type": "display_data"
    }
   ],
   "source": [
    "\n",
    "df[(df['n_groups']==200)&\\\n",
    "   (df['threshold']>0)&\\\n",
    "   (df['extract']=='Greedy')&\\\n",
    "   (df['repair']=='Guided')&\\\n",
    "   (df['rank'])]['runtime'].sort_values(ignore_index=True).cumsum().plot(ylim=(0, 3.5*10**4), xlabel='Number of sketches solved', ylabel='Time (s)')"
   ]
  },
  {
   "cell_type": "code",
   "execution_count": 8,
   "id": "4044f830-5ad5-46a5-a40a-54a297a8fc3c",
   "metadata": {},
   "outputs": [
    {
     "data": {
      "text/html": [
       "<div>\n",
       "<style scoped>\n",
       "    .dataframe tbody tr th:only-of-type {\n",
       "        vertical-align: middle;\n",
       "    }\n",
       "\n",
       "    .dataframe tbody tr th {\n",
       "        vertical-align: top;\n",
       "    }\n",
       "\n",
       "    .dataframe thead th {\n",
       "        text-align: right;\n",
       "    }\n",
       "</style>\n",
       "<table border=\"1\" class=\"dataframe\">\n",
       "  <thead>\n",
       "    <tr style=\"text-align: right;\">\n",
       "      <th></th>\n",
       "      <th>runtime</th>\n",
       "    </tr>\n",
       "  </thead>\n",
       "  <tbody>\n",
       "    <tr>\n",
       "      <th>0</th>\n",
       "      <td>2.126</td>\n",
       "    </tr>\n",
       "    <tr>\n",
       "      <th>1</th>\n",
       "      <td>0.008</td>\n",
       "    </tr>\n",
       "    <tr>\n",
       "      <th>2</th>\n",
       "      <td>0.019</td>\n",
       "    </tr>\n",
       "    <tr>\n",
       "      <th>3</th>\n",
       "      <td>0.238</td>\n",
       "    </tr>\n",
       "    <tr>\n",
       "      <th>4</th>\n",
       "      <td>3.041</td>\n",
       "    </tr>\n",
       "    <tr>\n",
       "      <th>...</th>\n",
       "      <td>...</td>\n",
       "    </tr>\n",
       "    <tr>\n",
       "      <th>1320</th>\n",
       "      <td>13.551</td>\n",
       "    </tr>\n",
       "    <tr>\n",
       "      <th>1321</th>\n",
       "      <td>26.104</td>\n",
       "    </tr>\n",
       "    <tr>\n",
       "      <th>1322</th>\n",
       "      <td>13.890</td>\n",
       "    </tr>\n",
       "    <tr>\n",
       "      <th>1323</th>\n",
       "      <td>0.861</td>\n",
       "    </tr>\n",
       "    <tr>\n",
       "      <th>1324</th>\n",
       "      <td>25.195</td>\n",
       "    </tr>\n",
       "  </tbody>\n",
       "</table>\n",
       "<p>1325 rows × 1 columns</p>\n",
       "</div>"
      ],
      "text/plain": [
       "      runtime\n",
       "0       2.126\n",
       "1       0.008\n",
       "2       0.019\n",
       "3       0.238\n",
       "4       3.041\n",
       "...       ...\n",
       "1320   13.551\n",
       "1321   26.104\n",
       "1322   13.890\n",
       "1323    0.861\n",
       "1324   25.195\n",
       "\n",
       "[1325 rows x 1 columns]"
      ]
     },
     "execution_count": 8,
     "metadata": {},
     "output_type": "execute_result"
    }
   ],
   "source": [
    "def load_regel(d):\n",
    "    times = []\n",
    "    for fn in os.listdir(d):\n",
    "        with open(d + '/' + fn, 'r') as f:\n",
    "            x = f.readlines()\n",
    "        for line in x:\n",
    "            if 'Total time:' in line:\n",
    "                time = float(line.split(':')[1])\n",
    "                times.append(time)\n",
    "                break\n",
    "    return times\n",
    "                \n",
    "regel_df = pd.DataFrame({'runtime': load_regel('/home/feser/regel-runs/mode1')})\n",
    "regel_df"
   ]
  },
  {
   "cell_type": "code",
   "execution_count": 11,
   "id": "50239ffd-9fab-4034-ab7d-0026b249af5a",
   "metadata": {},
   "outputs": [],
   "source": [
    "n_bench = 2174"
   ]
  },
  {
   "cell_type": "code",
   "execution_count": 47,
   "id": "6d33874d-ea28-4cf1-8ea0-b941af9a9d7a",
   "metadata": {},
   "outputs": [
    {
     "name": "stdout",
     "output_type": "stream",
     "text": [
      "Std solved: 1614\n",
      "FTA solved: 1430\n",
      "Abs solved: 278\n",
      "Regel solved: 1325\n"
     ]
    },
    {
     "data": {
      "text/plain": [
       "<Figure size 432x288 with 0 Axes>"
      ]
     },
     "metadata": {},
     "output_type": "display_data"
    },
    {
     "data": {
      "image/png": "[encoded data removed]",
      "text/plain": [
       "<Figure size 360x180 with 1 Axes>"
      ]
     },
     "metadata": {
      "needs_background": "light"
     },
     "output_type": "display_data"
    }
   ],
   "source": [
    "def plot():\n",
    "    plt.tight_layout()\n",
    "    fig = plt.figure(figsize=(5, 2.5))\n",
    "    ax = fig.add_subplot(1, 1, 1)\n",
    "\n",
    "    std = metric[\n",
    "        (metric[\"extract\"] == \"Exhaustive\")\n",
    "        & (metric[\"repair\"] == \"Guided\")\n",
    "        & (metric[\"threshold\"] > 0)\n",
    "        & (metric[\"rank\"])\n",
    "    ][\"runtime\"]\n",
    "    print('Std solved:', len(std.dropna()))\n",
    "    std = std.sort_values().fillna(1e10)\n",
    "    ax.plot(\n",
    "        [0] + list(std), range(0, len(std) + 1), label=r\"\\textsc{SyMetric}\", color=\"C2\"\n",
    "    )\n",
    "\n",
    "    en = enum[\"runtime\"]\n",
    "    print('FTA solved:', len(en.dropna()))\n",
    "    en = en.sort_values().fillna(1e10)\n",
    "    ax.plot(\n",
    "        [0] + list(en),\n",
    "        range(0, len(en) + 1),\n",
    "        label=r\"\\textsc{FTA}\",\n",
    "        color=\"C0\",\n",
    "    )\n",
    "\n",
    "    abstr = abst[\"runtime\"]\n",
    "    print('Abs solved:', len(abstr.dropna()))\n",
    "    abstr = abstr.sort_values().fillna(1e10)\n",
    "    ax.plot(\n",
    "        [0] + list(abstr),\n",
    "        range(0, len(abstr) + 1),\n",
    "        label=r\"\\textsc{AFTA}\",\n",
    "        color=\"C1\",\n",
    "    )\n",
    "    \n",
    "    reg = regel_df['runtime']\n",
    "    print('Regel solved:', len(reg.dropna()))\n",
    "    reg = reg.sort_values().fillna(1e10)\n",
    "    ax.plot(\n",
    "        [0] + list(reg) + [1e10],\n",
    "        range(0, len(reg) + 2),\n",
    "        label=r\"\\textsc{Regel}\",\n",
    "        color=\"C3\",\n",
    "    )\n",
    "\n",
    "    ax.set_ylim([0, n_bench])\n",
    "    ax.set_xlim([1e-3, 400])\n",
    "    ax.set_xscale('log')\n",
    "    ax.set_ylabel(\"Benchmarks solved\")\n",
    "    ax.set_xlabel(\"Time (s)\")\n",
    "    plt.legend(loc=\"upper left\")\n",
    "    ax.set_title(r\"(c) Synthesis Performance on Regular Expressions\")\n",
    "    plt.savefig('/home/feser/634da4c60a6e2fe917f357dc/metric_synth/regex_comparison.pdf', bbox_inches='tight')\n",
    "plot()"
   ]
  },
  {
   "cell_type": "code",
   "execution_count": 44,
   "id": "aa7083f8-f6b9-4156-b1e0-ff7bcd7ef5bd",
   "metadata": {},
   "outputs": [
    {
     "data": {
      "text/plain": [
       "<Figure size 432x288 with 0 Axes>"
      ]
     },
     "metadata": {},
     "output_type": "display_data"
    },
    {
     "data": {
      "image/png": "[encoded data removed]",
      "text/plain": [
       "<Figure size 360x180 with 1 Axes>"
      ]
     },
     "metadata": {
      "needs_background": "light"
     },
     "output_type": "display_data"
    }
   ],
   "source": [
    "def plot():\n",
    "    plt.tight_layout()\n",
    "    fig = plt.figure(figsize=(5, 2.5))\n",
    "    ax = fig.add_subplot(1, 1, 1)\n",
    "\n",
    "    std = metric[\n",
    "        (metric[\"extract\"] == \"Exhaustive\")\n",
    "        & (metric[\"repair\"] == \"Guided\")\n",
    "        & (metric[\"threshold\"] > 0)\n",
    "        & (metric[\"rank\"])\n",
    "    ][\"runtime\"]\n",
    "    std = std.sort_values().fillna(1e10)\n",
    "    ax.plot(\n",
    "        [0] + list(std), range(0, len(std) + 1), label=r\"\\textsc{SyMetric}\", color=\"C2\"\n",
    "    )\n",
    "\n",
    "    en = enum[\"runtime\"]\n",
    "    en = en.sort_values().fillna(1e10)\n",
    "    ax.plot(\n",
    "        [0] + list(en),\n",
    "        range(0, len(en) + 1),\n",
    "        label=r\"\\textsc{FTA}\",\n",
    "        color=\"C0\",\n",
    "    )\n",
    "    \n",
    "    reg = regel_df['runtime']\n",
    "    reg = reg.sort_values().fillna(1e10)\n",
    "    ax.plot(\n",
    "        [0] + list(reg) + [1e10],\n",
    "        range(0, len(reg) + 2),\n",
    "        label=r\"\\textsc{Regel}\",\n",
    "        color=\"C3\",\n",
    "    )\n",
    "\n",
    "    ax.set_ylim([600, 1700])\n",
    "    ax.set_xlim([1, 400])\n",
    "    ax.set_xscale('log')\n",
    "    ax.set_ylabel(\"Benchmarks solved\")\n",
    "    ax.set_xlabel(\"Time (s)\")\n",
    "    plt.legend(loc=\"lower right\")\n",
    "    ax.set_title(r\"(d) Synthesis Performance on Regular Expressions (Detail)\", fontsize=10)\n",
    "    plt.savefig('/home/feser/634da4c60a6e2fe917f357dc/metric_synth/regex_hard_comparison.pdf', bbox_inches='tight')\n",
    "plot()"
   ]
  },
  {
   "cell_type": "code",
   "execution_count": 38,
   "id": "8e4625d8-d89b-4fce-b497-2c20f029b7d5",
   "metadata": {},
   "outputs": [
    {
     "name": "stderr",
     "output_type": "stream",
     "text": [
      "/home/jovyan/work/home/feser/work/ocaml-workspace/staged-synth/notebooks/shared.py:191: FutureWarning: ['method', 'filename', 'extract', 'repair'] did not aggregate successfully. If any error is raised this will raise in a future version of pandas. Drop these columns/ops to avoid this warning.\n",
      "  df = df[df[\"success\"]].agg([\"median\", \"max\"])\n",
      "/home/jovyan/work/home/feser/work/ocaml-workspace/staged-synth/notebooks/shared.py:218: FutureWarning: ['method', 'filename', 'extract', 'repair'] did not aggregate successfully. If any error is raised this will raise in a future version of pandas. Drop these columns/ops to avoid this warning.\n",
      "  df = df[df[\"success\"]].agg([\"median\", \"max\"])\n"
     ]
    }
   ],
   "source": [
    "with open('/home/jovyan/work/home/feser/metric_synth/regex_method_times.tex', 'w') as f:\n",
    "    method_table(df, file=f)\n",
    "with open('/home/jovyan/work/home/feser/metric_synth/regex_construct_times.tex', 'w') as f:\n",
    "    construct_table(df, file=f)"
   ]
  },
  {
   "cell_type": "code",
   "execution_count": null,
   "id": "b4fdf860-72c1-4871-8ef5-10902bd6308f",
   "metadata": {},
   "outputs": [],
   "source": []
  }
 ],
 "metadata": {
  "kernelspec": {
   "display_name": "Python 3 (ipykernel)",
   "language": "python",
   "name": "python3"
  },
  "language_info": {
   "codemirror_mode": {
    "name": "ipython",
    "version": 3
   },
   "file_extension": ".py",
   "mimetype": "text/x-python",
   "name": "python",
   "nbconvert_exporter": "python",
   "pygments_lexer": "ipython3",
   "version": "3.10.7"
  },
  "toc-showmarkdowntxt": false
 },
 "nbformat": 4,
 "nbformat_minor": 5
}

{
 "cells": [
  {
   "cell_type": "code",
   "execution_count": 1,
   "id": "554ea3cb",
   "metadata": {},
   "outputs": [],
   "source": [
    "from docopt import docopt\n",
    "from glob import glob\n",
    "import os\n",
    "import subprocess\n",
    "import pandas as pd\n",
    "from tqdm import tqdm"
   ]
  },
  {
   "cell_type": "code",
   "execution_count": 7,
   "id": "98558a3d",
   "metadata": {},
   "outputs": [
    {
     "name": "stdout",
     "output_type": "stream",
     "text": [
      "/home/feser/work/ocaml-workspace/symetric\n"
     ]
    }
   ],
   "source": [
    "cd ~/work/ocaml-workspace/symetric"
   ]
  },
  {
   "cell_type": "code",
   "execution_count": 8,
   "id": "f1338851",
   "metadata": {},
   "outputs": [],
   "source": [
    "run = 'runs/2023-04-12-10:58:11/'"
   ]
  },
  {
   "cell_type": "code",
   "execution_count": 10,
   "id": "24049c99",
   "metadata": {},
   "outputs": [
    {
     "name": "stderr",
     "output_type": "stream",
     "text": [
      "100%|█████████████████████████████████████████████████████████████████████████████████| 400/400 [00:04<00:00, 83.41it/s]\n"
     ]
    },
    {
     "data": {
      "text/html": [
       "<div>\n",
       "<style scoped>\n",
       "    .dataframe tbody tr th:only-of-type {\n",
       "        vertical-align: middle;\n",
       "    }\n",
       "\n",
       "    .dataframe tbody tr th {\n",
       "        vertical-align: top;\n",
       "    }\n",
       "\n",
       "    .dataframe thead th {\n",
       "        text-align: right;\n",
       "    }\n",
       "</style>\n",
       "<table border=\"1\" class=\"dataframe\">\n",
       "  <thead>\n",
       "    <tr style=\"text-align: right;\">\n",
       "      <th></th>\n",
       "      <th>bench</th>\n",
       "      <th>repeat</th>\n",
       "      <th>result</th>\n",
       "    </tr>\n",
       "  </thead>\n",
       "  <tbody>\n",
       "    <tr>\n",
       "      <th>0</th>\n",
       "      <td>circle_repl</td>\n",
       "      <td>0</td>\n",
       "      <td>1</td>\n",
       "    </tr>\n",
       "    <tr>\n",
       "      <th>1</th>\n",
       "      <td>circle_repl</td>\n",
       "      <td>1</td>\n",
       "      <td>1</td>\n",
       "    </tr>\n",
       "    <tr>\n",
       "      <th>2</th>\n",
       "      <td>circle_repl</td>\n",
       "      <td>2</td>\n",
       "      <td>3</td>\n",
       "    </tr>\n",
       "    <tr>\n",
       "      <th>3</th>\n",
       "      <td>circle_repl</td>\n",
       "      <td>3</td>\n",
       "      <td>3</td>\n",
       "    </tr>\n",
       "    <tr>\n",
       "      <th>4</th>\n",
       "      <td>circle_repl</td>\n",
       "      <td>4</td>\n",
       "      <td>1</td>\n",
       "    </tr>\n",
       "    <tr>\n",
       "      <th>...</th>\n",
       "      <td>...</td>\n",
       "      <td>...</td>\n",
       "      <td>...</td>\n",
       "    </tr>\n",
       "    <tr>\n",
       "      <th>395</th>\n",
       "      <td>bench_9</td>\n",
       "      <td>5</td>\n",
       "      <td>1</td>\n",
       "    </tr>\n",
       "    <tr>\n",
       "      <th>396</th>\n",
       "      <td>bench_9</td>\n",
       "      <td>6</td>\n",
       "      <td>1</td>\n",
       "    </tr>\n",
       "    <tr>\n",
       "      <th>397</th>\n",
       "      <td>bench_9</td>\n",
       "      <td>7</td>\n",
       "      <td>1</td>\n",
       "    </tr>\n",
       "    <tr>\n",
       "      <th>398</th>\n",
       "      <td>bench_9</td>\n",
       "      <td>8</td>\n",
       "      <td>1</td>\n",
       "    </tr>\n",
       "    <tr>\n",
       "      <th>399</th>\n",
       "      <td>bench_9</td>\n",
       "      <td>9</td>\n",
       "      <td>1</td>\n",
       "    </tr>\n",
       "  </tbody>\n",
       "</table>\n",
       "<p>400 rows × 3 columns</p>\n",
       "</div>"
      ],
      "text/plain": [
       "           bench repeat  result\n",
       "0    circle_repl      0       1\n",
       "1    circle_repl      1       1\n",
       "2    circle_repl      2       3\n",
       "3    circle_repl      3       3\n",
       "4    circle_repl      4       1\n",
       "..           ...    ...     ...\n",
       "395      bench_9      5       1\n",
       "396      bench_9      6       1\n",
       "397      bench_9      7       1\n",
       "398      bench_9      8       1\n",
       "399      bench_9      9       1\n",
       "\n",
       "[400 rows x 3 columns]"
      ]
     },
     "execution_count": 10,
     "metadata": {},
     "output_type": "execute_result"
    }
   ],
   "source": [
    "rows = []\n",
    "for out in tqdm(glob(run + \"/*.out\")):\n",
    "    name_parts = os.path.basename(out).split(\".\")[0].split(\"-\")\n",
    "    bench_name = name_parts[1]\n",
    "    repeat = name_parts[2]\n",
    "    bench_file = glob(f\"bench/cad_ext/**/{bench_name}\", recursive=True)[0]\n",
    "    proc = subprocess.run([\"_build/default/bin/equiv_cad.exe\", bench_file, out])\n",
    "    rows.append({\"bench\": bench_name, \"repeat\": repeat, \"result\": proc.returncode})\n",
    "df = pd.DataFrame(rows)\n",
    "df"
   ]
  },
  {
   "cell_type": "code",
   "execution_count": 21,
   "id": "050585ba",
   "metadata": {},
   "outputs": [
    {
     "name": "stdout",
     "output_type": "stream",
     "text": [
      "Correct:  0\n",
      "Incorrect:  245\n",
      "Invalid sexp:  22\n",
      "Invalid CSG program:  133\n"
     ]
    }
   ],
   "source": [
    "print('Correct: ', len(df[df['result'] == 0]))\n",
    "print('Incorrect: ', len(df[df['result'] == 1]))\n",
    "print('Invalid sexp: ', len(df[df['result'] == 2]))\n",
    "print('Invalid CSG program: ', len(df[df['result'] == 3]))"
   ]
  },
  {
   "cell_type": "code",
   "execution_count": null,
   "id": "400ba042",
   "metadata": {},
   "outputs": [],
   "source": []
  }
 ],
 "metadata": {
  "kernelspec": {
   "display_name": "Python 3 (ipykernel)",
   "language": "python",
   "name": "python3"
  },
  "language_info": {
   "codemirror_mode": {
    "name": "ipython",
    "version": 3
   },
   "file_extension": ".py",
   "mimetype": "text/x-python",
   "name": "python",
   "nbconvert_exporter": "python",
   "pygments_lexer": "ipython3",
   "version": "3.11.2"
  }
 },
 "nbformat": 4,
 "nbformat_minor": 5
}

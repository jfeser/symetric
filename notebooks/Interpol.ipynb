{
 "cells": [
  {
   "cell_type": "code",
   "execution_count": 4,
   "metadata": {},
   "outputs": [],
   "source": [
    "from pysmt import *"
   ]
  },
  {
   "cell_type": "code",
   "execution_count": 5,
   "metadata": {},
   "outputs": [
    {
     "name": "stdout",
     "output_type": "stream",
     "text": [
      "Collecting jupyter-emacskeys\n",
      "  Downloading https://files.pythonhosted.org/packages/77/b5/c70e1ef66f7d2dba0a769560068233feda0b086c7e13165a0eeda30bcc71/jupyter-emacskeys-0.2.3.tar.gz\n",
      "Requirement already satisfied: ipython>=4 in /snap/jupyter/6/lib/python3.7/site-packages (from jupyter-emacskeys) (7.5.0)\n",
      "Requirement already satisfied: notebook>=4 in /snap/jupyter/6/lib/python3.7/site-packages (from jupyter-emacskeys) (5.7.8)\n",
      "Requirement already satisfied: pickleshare in /snap/jupyter/6/lib/python3.7/site-packages (from ipython>=4->jupyter-emacskeys) (0.7.5)\n",
      "Requirement already satisfied: prompt-toolkit<2.1.0,>=2.0.0 in /snap/jupyter/6/lib/python3.7/site-packages (from ipython>=4->jupyter-emacskeys) (2.0.9)\n",
      "Requirement already satisfied: setuptools>=18.5 in /snap/jupyter/6/lib/python3.7/site-packages (from ipython>=4->jupyter-emacskeys) (41.0.1)\n",
      "Requirement already satisfied: pexpect; sys_platform != \"win32\" in /snap/jupyter/6/lib/python3.7/site-packages (from ipython>=4->jupyter-emacskeys) (4.7.0)\n",
      "Requirement already satisfied: backcall in /snap/jupyter/6/lib/python3.7/site-packages (from ipython>=4->jupyter-emacskeys) (0.1.0)\n",
      "Requirement already satisfied: jedi>=0.10 in /snap/jupyter/6/lib/python3.7/site-packages (from ipython>=4->jupyter-emacskeys) (0.13.3)\n",
      "Requirement already satisfied: decorator in /snap/jupyter/6/lib/python3.7/site-packages (from ipython>=4->jupyter-emacskeys) (4.4.0)\n",
      "Requirement already satisfied: traitlets>=4.2 in /snap/jupyter/6/lib/python3.7/site-packages (from ipython>=4->jupyter-emacskeys) (4.3.2)\n",
      "Requirement already satisfied: pygments in /snap/jupyter/6/lib/python3.7/site-packages (from ipython>=4->jupyter-emacskeys) (2.4.2)\n",
      "Requirement already satisfied: jupyter-core>=4.4.0 in /snap/jupyter/6/lib/python3.7/site-packages (from notebook>=4->jupyter-emacskeys) (4.4.0)\n",
      "Requirement already satisfied: terminado>=0.8.1 in /snap/jupyter/6/lib/python3.7/site-packages (from notebook>=4->jupyter-emacskeys) (0.8.2)\n",
      "Requirement already satisfied: ipython-genutils in /snap/jupyter/6/lib/python3.7/site-packages (from notebook>=4->jupyter-emacskeys) (0.2.0)\n",
      "Requirement already satisfied: ipykernel in /snap/jupyter/6/lib/python3.7/site-packages (from notebook>=4->jupyter-emacskeys) (5.1.1)\n",
      "Requirement already satisfied: prometheus-client in /snap/jupyter/6/lib/python3.7/site-packages (from notebook>=4->jupyter-emacskeys) (0.7.0)\n",
      "Requirement already satisfied: nbformat in /snap/jupyter/6/lib/python3.7/site-packages (from notebook>=4->jupyter-emacskeys) (4.4.0)\n",
      "Requirement already satisfied: jinja2 in /snap/jupyter/6/lib/python3.7/site-packages (from notebook>=4->jupyter-emacskeys) (2.10.1)\n",
      "Requirement already satisfied: tornado<7,>=4.1 in /snap/jupyter/6/lib/python3.7/site-packages (from notebook>=4->jupyter-emacskeys) (6.0.2)\n",
      "Requirement already satisfied: pyzmq>=17 in /snap/jupyter/6/lib/python3.7/site-packages (from notebook>=4->jupyter-emacskeys) (18.0.1)\n",
      "Requirement already satisfied: jupyter-client>=5.2.0 in /snap/jupyter/6/lib/python3.7/site-packages (from notebook>=4->jupyter-emacskeys) (5.2.4)\n",
      "Requirement already satisfied: Send2Trash in /snap/jupyter/6/lib/python3.7/site-packages (from notebook>=4->jupyter-emacskeys) (1.5.0)\n",
      "Requirement already satisfied: nbconvert in /snap/jupyter/6/lib/python3.7/site-packages (from notebook>=4->jupyter-emacskeys) (5.5.0)\n",
      "Requirement already satisfied: wcwidth in /snap/jupyter/6/lib/python3.7/site-packages (from prompt-toolkit<2.1.0,>=2.0.0->ipython>=4->jupyter-emacskeys) (0.1.7)\n",
      "Requirement already satisfied: six>=1.9.0 in /snap/jupyter/6/lib/python3.7/site-packages (from prompt-toolkit<2.1.0,>=2.0.0->ipython>=4->jupyter-emacskeys) (1.12.0)\n",
      "Requirement already satisfied: ptyprocess>=0.5 in /snap/jupyter/6/lib/python3.7/site-packages (from pexpect; sys_platform != \"win32\"->ipython>=4->jupyter-emacskeys) (0.6.0)\n",
      "Requirement already satisfied: parso>=0.3.0 in /snap/jupyter/6/lib/python3.7/site-packages (from jedi>=0.10->ipython>=4->jupyter-emacskeys) (0.4.0)\n",
      "Requirement already satisfied: jsonschema!=2.5.0,>=2.4 in /snap/jupyter/6/lib/python3.7/site-packages (from nbformat->notebook>=4->jupyter-emacskeys) (3.0.1)\n",
      "Requirement already satisfied: MarkupSafe>=0.23 in /snap/jupyter/6/lib/python3.7/site-packages (from jinja2->notebook>=4->jupyter-emacskeys) (1.1.1)\n",
      "Requirement already satisfied: python-dateutil>=2.1 in /snap/jupyter/6/lib/python3.7/site-packages (from jupyter-client>=5.2.0->notebook>=4->jupyter-emacskeys) (2.8.0)\n",
      "Requirement already satisfied: bleach in /snap/jupyter/6/lib/python3.7/site-packages (from nbconvert->notebook>=4->jupyter-emacskeys) (3.1.0)\n",
      "Requirement already satisfied: defusedxml in /snap/jupyter/6/lib/python3.7/site-packages (from nbconvert->notebook>=4->jupyter-emacskeys) (0.5.0)\n",
      "Requirement already satisfied: mistune>=0.8.1 in /snap/jupyter/6/lib/python3.7/site-packages (from nbconvert->notebook>=4->jupyter-emacskeys) (0.8.4)\n",
      "Requirement already satisfied: entrypoints>=0.2.2 in /snap/jupyter/6/lib/python3.7/site-packages (from nbconvert->notebook>=4->jupyter-emacskeys) (0.3)\n",
      "Requirement already satisfied: testpath in /snap/jupyter/6/lib/python3.7/site-packages (from nbconvert->notebook>=4->jupyter-emacskeys) (0.4.2)\n",
      "Requirement already satisfied: pandocfilters>=1.4.1 in /snap/jupyter/6/lib/python3.7/site-packages (from nbconvert->notebook>=4->jupyter-emacskeys) (1.4.2)\n",
      "Requirement already satisfied: attrs>=17.4.0 in /snap/jupyter/6/lib/python3.7/site-packages (from jsonschema!=2.5.0,>=2.4->nbformat->notebook>=4->jupyter-emacskeys) (19.1.0)\n",
      "Requirement already satisfied: pyrsistent>=0.14.0 in /snap/jupyter/6/lib/python3.7/site-packages (from jsonschema!=2.5.0,>=2.4->nbformat->notebook>=4->jupyter-emacskeys) (0.15.2)\n",
      "Requirement already satisfied: webencodings in /snap/jupyter/6/lib/python3.7/site-packages (from bleach->nbconvert->notebook>=4->jupyter-emacskeys) (0.5.1)\n",
      "Building wheels for collected packages: jupyter-emacskeys\n",
      "  Building wheel for jupyter-emacskeys (setup.py) ... \u001b[?25ldone\n",
      "\u001b[?25h  Stored in directory: /home/feser/snap/jupyter/6/.cache/pip/wheels/03/37/26/fcf1501ee446fd0157b421ef7e7a245d6c496d008ba57a3ac9\n",
      "Successfully built jupyter-emacskeys\n",
      "Installing collected packages: jupyter-emacskeys\n",
      "Successfully installed jupyter-emacskeys-0.2.3\n"
     ]
    }
   ],
   "source": [
    "!pip install jupyter-emacskeys"
   ]
  },
  {
   "cell_type": "code",
   "execution_count": 19,
   "metadata": {},
   "outputs": [
    {
     "name": "stdout",
     "output_type": "stream",
     "text": [
      "[True, True, True]\n",
      "[FV0, True, FV1]\n",
      "[True, False, True]\n",
      "[FV2, False, FV3]\n"
     ]
    },
    {
     "data": {
      "text/plain": [
       "False"
      ]
     },
     "execution_count": 19,
     "metadata": {},
     "output_type": "execute_result"
    }
   ],
   "source": [
    "from pysmt.shortcuts import *\n",
    "reset_env()\n",
    "\n",
    "def union(xs, ys):\n",
    "    return [Or(x, y) for (x, y) in zip(xs, ys)]\n",
    "\n",
    "def inter(xs, ys):\n",
    "    return [And(x, y) for (x, y) in zip(xs, ys)]\n",
    "\n",
    "def sub(xs, ys):\n",
    "    return [And(x, Not(y)) for (x, y) in zip(xs, ys)]\n",
    "\n",
    "def eq(xs, ys):\n",
    "    return And([Or(And(x, y), And(Not(x), Not(y))) for (x, y) in zip(xs, ys)])\n",
    "\n",
    "def bv(name, n):\n",
    "    return [Symbol(name + str(i)) for i in range(n)]\n",
    "\n",
    "def bvlit(bs):\n",
    "    return [Bool(x) for x in bs]\n",
    "\n",
    "def materialize(vs):\n",
    "    out = []\n",
    "    for v in vs:\n",
    "        if v == True or v == False:\n",
    "            out.append(Bool(v))\n",
    "        else:\n",
    "            out.append(FreshSymbol())\n",
    "    return out\n",
    "\n",
    "x1 = Symbol('x1')\n",
    "x2 = Symbol('x2')\n",
    "x3 = Symbol('x3')\n",
    "x4 = Symbol('x4')\n",
    "x5 = Symbol('x5')\n",
    "x6 = Symbol('x6')\n",
    "\n",
    "s1 = materialize([True, True, True])\n",
    "s2 = materialize([None, True, None])\n",
    "s3 = materialize([True, False, True])\n",
    "s4 = materialize([None, False, None])\n",
    "\n",
    "out = bv('out', 3)\n",
    "expected = bvlit([False, False, False])\n",
    "in1 = bvlit([True, True, True])\n",
    "in2 = bvlit([True, True, False])\n",
    "in3 = bvlit([True, False, True])\n",
    "\n",
    "print(s1)\n",
    "print(s2)\n",
    "print(s3)\n",
    "print(s4)\n",
    "\n",
    "abstr = And([\n",
    "  eq(s4, expected),\n",
    "  eq(in1, s1),\n",
    "  eq(in2, s2),\n",
    "  eq(in3, s3),\n",
    "])\n",
    "conc = And([\n",
    "  Implies(And(x1, x3, x4), eq(s4, sub(s1, s2))),\n",
    "  Implies(And(x2, x5, x6), eq(s4, inter(s2, s3))),\n",
    "  Or(x1, x2),\n",
    "  Implies(x1, And(x3, x4)),\n",
    "  Implies(x2, And(x5, x6)),\n",
    "])\n",
    "is_sat(And([abstr, conc]))"
   ]
  },
  {
   "cell_type": "code",
   "execution_count": 20,
   "metadata": {},
   "outputs": [
    {
     "data": {
      "text/plain": [
       "'((! FV3) & (! FV1) & FV0 & (! FV2))'"
      ]
     },
     "execution_count": 20,
     "metadata": {},
     "output_type": "execute_result"
    }
   ],
   "source": [
    "serialize(simplify(binary_interpolant(abstr, conc)))"
   ]
  },
  {
   "cell_type": "code",
   "execution_count": 2,
   "metadata": {},
   "outputs": [],
   "source": [
    "import z3"
   ]
  },
  {
   "cell_type": "code",
   "execution_count": 3,
   "metadata": {},
   "outputs": [
    {
     "data": {
      "text/plain": [
       "['__builtins__',\n",
       " '__cached__',\n",
       " '__doc__',\n",
       " '__file__',\n",
       " '__loader__',\n",
       " '__name__',\n",
       " '__package__',\n",
       " '__path__',\n",
       " '__spec__']"
      ]
     },
     "execution_count": 3,
     "metadata": {},
     "output_type": "execute_result"
    }
   ],
   "source": [
    "dir(z3)"
   ]
  },
  {
   "cell_type": "code",
   "execution_count": null,
   "metadata": {},
   "outputs": [],
   "source": []
  }
 ],
 "metadata": {
  "kernelspec": {
   "display_name": "Python 3",
   "language": "python",
   "name": "python3"
  },
  "language_info": {
   "codemirror_mode": {
    "name": "ipython",
    "version": 3
   },
   "file_extension": ".py",
   "mimetype": "text/x-python",
   "name": "python",
   "nbconvert_exporter": "python",
   "pygments_lexer": "ipython3",
   "version": "3.8.2"
  }
 },
 "nbformat": 4,
 "nbformat_minor": 4
}
